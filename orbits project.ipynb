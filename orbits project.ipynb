{
 "cells": [
  {
   "cell_type": "code",
   "execution_count": 1,
   "metadata": {
    "collapsed": true,
    "deletable": true,
    "editable": true
   },
   "outputs": [],
   "source": [
    "import numpy as np\n",
    "import matplotlib.pyplot as plt\n",
    "from scipy.constants import gravitational_constant as G"
   ]
  },
  {
   "cell_type": "markdown",
   "metadata": {
    "collapsed": true,
    "deletable": true,
    "editable": true
   },
   "source": [
    "### 1D test"
   ]
  },
  {
   "cell_type": "code",
   "execution_count": null,
   "metadata": {
    "collapsed": false,
    "deletable": true,
    "editable": true
   },
   "outputs": [],
   "source": [
    "# ODE\n",
    "\n",
    "def f(y,x):\n",
    "     return 2*x\n",
    "\n",
    "dx = .1\n",
    "x = np.arange(-10,10,dx) \n",
    "y = np.zeros([len(x)])\n",
    "#y0 = 0 \n",
    "y[0] = 0\n",
    "\n",
    "# Euler\n",
    "for n in range(1,len(x)):\n",
    "      y[n] = y[n-1] + f(y, x[n-1])*dx\n",
    "# or\n",
    "      #y[n] = y[n-1] + 2*x[n-1]*dx\n",
    "\n",
    "#print(y)\n",
    "#print(len(x))\n",
    "plt.plot(x,y,'b')\n",
    "plt.xlabel('x')\n",
    "plt.ylabel('y')\n",
    "plt.title('Euler')\n",
    "plt.show()"
   ]
  },
  {
   "cell_type": "code",
   "execution_count": null,
   "metadata": {
    "collapsed": false,
    "deletable": true,
    "editable": true
   },
   "outputs": [],
   "source": [
    "# rk 1\n",
    "\n",
    "def rk1(y,x,dx):\n",
    "    k1 = dx * f(y,x)\n",
    "    k2 = dx * f(y + .5*k1, x + .5*dx)\n",
    "    k3 = dx * f(y + .5*k2, x + .5*dx)\n",
    "    k4 = dx * f(y + k3, x + dx)\n",
    "    return (k1 + 2*k2 + 2*k3 + k4)/6\n",
    "    \n",
    "for n in range(1,len(x)):\n",
    "        y[n] = y[n-1] + rk1(y[n-1],x[n-1],dx)\n",
    "\n",
    "#print(y)\n",
    "plt.plot(x,y,'b')\n",
    "plt.xlabel('x')\n",
    "plt.ylabel('y')\n",
    "plt.title('RK4')\n",
    "plt.show()"
   ]
  },
  {
   "cell_type": "markdown",
   "metadata": {
    "deletable": true,
    "editable": true
   },
   "source": [
    "### 1D drag "
   ]
  },
  {
   "cell_type": "code",
   "execution_count": null,
   "metadata": {
    "collapsed": false,
    "deletable": true,
    "editable": true
   },
   "outputs": [],
   "source": [
    "# ODE\n",
    "def f(v,t):\n",
    "     return (m*g-b*v)/m\n",
    "    \n",
    "dt = .1\n",
    "t = np.arange(0,10,dt) \n",
    "v = np.zeros([len(t)])\n",
    "#v0 = 0 \n",
    "v[0] = 0 #initial velocity\n",
    "#v[len(t)-1] = m*g/b #terminal velocity\n",
    "m = 2\n",
    "g = 9.8\n",
    "b = 1\n",
    "\n",
    "# Euler\n",
    "for n in range(1,len(t)):\n",
    "      v[n] = v[n-1] + f(v[n-1], t[n-1])*dt\n",
    "# or\n",
    "      #v[n] = v[n-1] + ((m*g-b*v[n-1])/m)*dx\n",
    "\n",
    "plt.plot(t,v,'b')\n",
    "plt.xlabel('time (s)')\n",
    "plt.ylabel('velocity (m/s)')\n",
    "plt.title('velocity of free falling object with drag force - Euler')\n",
    "plt.show()"
   ]
  },
  {
   "cell_type": "code",
   "execution_count": null,
   "metadata": {
    "collapsed": false,
    "deletable": true,
    "editable": true
   },
   "outputs": [],
   "source": [
    "# rk 2\n",
    "\n",
    "def rk2(v,t,dt):\n",
    "    k1 = dt * f(v,t)\n",
    "    k2 = dt * f(v + .5*k1, t + .5*dt)\n",
    "    k3 = dt * f(v + .5*k2, t + .5*dt)\n",
    "    k4 = dt * f(v + k3, t + dt)\n",
    "    return (k1 + 2*k2 + 2*k3 + k4)/6\n",
    "\n",
    "for n in range(1,len(t)):\n",
    "        v[n] = v[n-1] + rk2(v[n-1],t[n-1],dt)\n",
    "        \n",
    "#print(v)\n",
    "plt.plot(t,v,'b')\n",
    "plt.xlabel('time (s)')\n",
    "plt.ylabel('velocity (m/s)')\n",
    "plt.title('velocity of free falling object with drag force - RK4')\n",
    "plt.show()"
   ]
  },
  {
   "cell_type": "code",
   "execution_count": null,
   "metadata": {
    "collapsed": false,
    "deletable": true,
    "editable": true
   },
   "outputs": [],
   "source": [
    "print(v)"
   ]
  },
  {
   "cell_type": "code",
   "execution_count": null,
   "metadata": {
    "collapsed": false,
    "deletable": true,
    "editable": true
   },
   "outputs": [],
   "source": [
    "# euler position\n",
    "\n",
    "x = np.zeros([len(t)])\n",
    "x[0] = 0 #initial position\n",
    "\n",
    "for n in range(1,len(t)):\n",
    "    x[n] = x[n-1] + v[n-1]*dt\n",
    "    \n",
    "print(x)\n",
    "plt.plot(t,x,'b')\n",
    "plt.xlabel('time (s)')\n",
    "plt.ylabel('position (m)')\n",
    "plt.title('position of free falling object with drag force - Euler')\n",
    "plt.show()"
   ]
  },
  {
   "cell_type": "code",
   "execution_count": null,
   "metadata": {
    "collapsed": false,
    "deletable": true,
    "editable": true
   },
   "outputs": [],
   "source": [
    "# rk 2\n",
    "def rk2(v,t,dt):\n",
    "    \n",
    "    k1 = dt * f(v,t)\n",
    "    m1 = dt * v\n",
    "    k2 = dt * f(v + .5*k1, t + .5*dt)\n",
    "    m2 = dt * (v + k1/2)\n",
    "    k3 = dt * f(v + .5*k2, t + .5*dt)\n",
    "    m3 = dt * (v + k2/2)\n",
    "    k4 = dt * f(v + k3, t + dt)\n",
    "    m4 = dt * (v + k3)\n",
    "    \n",
    "    return (k1 + 2*k2 + 2*k3 + k4)/6\n",
    "    return (m1 + 2*m2 + 2*m3 + m4)/6\n",
    "\n",
    "\n",
    "for n in range(1,len(t)):\n",
    "        x[n] = x[n-1] + v[n-1]*dt\n",
    "        \n",
    "print(x)\n",
    "plt.plot(t,x,'b')\n",
    "plt.xlabel('time (s)')\n",
    "plt.ylabel('position (m)')\n",
    "plt.title('position of free falling object with drag force - RK4')\n",
    "plt.show()\n"
   ]
  },
  {
   "cell_type": "markdown",
   "metadata": {
    "collapsed": true,
    "deletable": true,
    "editable": true
   },
   "source": [
    "### 2D projectile "
   ]
  },
  {
   "cell_type": "code",
   "execution_count": null,
   "metadata": {
    "collapsed": false,
    "deletable": true,
    "editable": true
   },
   "outputs": [],
   "source": [
    "#original projectile function - Euler\n",
    "\n",
    "dt = .1\n",
    "t = np.arange(0,10,dt)\n",
    "\n",
    "vx = np.zeros(len(t))\n",
    "vy = np.zeros(len(t))\n",
    "rx = np.zeros(len(t))\n",
    "ry = np.zeros(len(t))\n",
    "\n",
    "v0 = 25\n",
    "theta = np.pi/6 # launch angle\n",
    "vx[0] = v0*np.cos(theta)   # initial x velocity\n",
    "vy[0] = v0*np.sin(theta)   # initial y velocity\n",
    "rx[0] = 0   # initial x position\n",
    "ry[0] = 0   #initial y position\n",
    "\n",
    "m = 5 #kg\n",
    "g = 9.8\n",
    "b = 1\n",
    "\n",
    "def fx(vx,t): # dvx/dt\n",
    "         return -b*vx/m \n",
    "\n",
    "def fy(vy,t): # dvy/dt\n",
    "         return (-b * vy - m*g)/m \n",
    "\n",
    "for n in range(1,len(t)): # Euler\n",
    "    vx[n] = vx[n-1] + fx(vx[n-1], t[n-1])*dt\n",
    "    vy[n] = vy[n-1] + fy(vy[n-1], t[n-1])*dt\n",
    "    rx[n] = rx[n-1] + vx[n-1]*dt\n",
    "    ry[n] = ry[n-1] + vy[n-1]*dt\n",
    "    \n",
    "plt.plot(rx, ry, 'b')\n",
    "plt.xlabel('x distance (m)')\n",
    "plt.ylabel('y distance (m)')\n",
    "plt.title('projectile motion - Euler')\n",
    "plt.xlim(-5,50)\n",
    "plt.ylim(0,10)\n",
    "plt.show()"
   ]
  },
  {
   "cell_type": "code",
   "execution_count": null,
   "metadata": {
    "collapsed": false,
    "deletable": true,
    "editable": true
   },
   "outputs": [],
   "source": [
    "print(ry[24])\n",
    "print(rx[24])"
   ]
  },
  {
   "cell_type": "code",
   "execution_count": null,
   "metadata": {
    "collapsed": false,
    "deletable": true,
    "editable": true
   },
   "outputs": [],
   "source": [
    "#modified projectile function - Euler\n",
    "\n",
    "dt = .1\n",
    "t = np.arange(0,10,dt)\n",
    "\n",
    "vx = np.zeros([len(t)])\n",
    "vy = np.zeros([len(t)])\n",
    "rx = np.zeros([len(t)])\n",
    "ry = np.zeros([len(t)])\n",
    "\n",
    "v0 = 25\n",
    "theta = np.pi/6 # launch angle\n",
    "vx[0] = v0*np.cos(theta)   # initial x velocity\n",
    "vy[0] = v0*np.sin(theta)   # initial y velocity\n",
    "rx[0] = 0   # initial x position\n",
    "ry[0] = 0   #initial y position\n",
    "\n",
    "m = 5 #kg\n",
    "g = 9.8\n",
    "b = 1\n",
    "\n",
    "def fx(rx,t): # dvx/dt\n",
    "         return -b * rx/m \n",
    "\n",
    "def fy(ry,t): # dvy/dt\n",
    "         return (-b * ry - m*g)/m \n",
    "\n",
    "for n in range(1,len(t)): # Euler\n",
    "    #vx[n] = vx[n-1] + fx(vx[n-1], t[n-1])*dt\n",
    "    vx[n] = vx[n-1] + fx(rx[n-1], t[n-1])*dt\n",
    "    #vy[n] = vy[n-1] + fy(vy[n-1], t[n-1])*dt\n",
    "    vy[n] = vy[n-1] + fy(ry[n-1], t[n-1])*dt\n",
    "    rx[n] = rx[n-1] + vx[n-1]*dt\n",
    "    ry[n] = ry[n-1] + vy[n-1]*dt\n",
    "    \n",
    "plt.plot(rx, ry, 'b')\n",
    "plt.xlabel('x distance (m)')\n",
    "plt.ylabel('y distance (m)')\n",
    "plt.title('projectile motion - Euler')\n",
    "plt.xlim(-5,50)\n",
    "plt.ylim(0,10)\n",
    "plt.show()\n",
    "\n"
   ]
  },
  {
   "cell_type": "code",
   "execution_count": null,
   "metadata": {
    "collapsed": false,
    "deletable": true,
    "editable": true
   },
   "outputs": [],
   "source": [
    "print(ry[24])\n",
    "print(rx[24])"
   ]
  },
  {
   "cell_type": "code",
   "execution_count": null,
   "metadata": {
    "collapsed": false,
    "deletable": true,
    "editable": true
   },
   "outputs": [],
   "source": [
    "#original projectile function - RK\n",
    "\n",
    "def fx(vx,t): # dvx/dt\n",
    "         return -b*vx/m \n",
    "\n",
    "def fy(vy,t): # dvy/dt\n",
    "         return (-b * vy - m*g)/m \n",
    "\n",
    "def rkx(vx,t,dt):\n",
    "    \n",
    "    kx1 = dt * fx(vx,t)\n",
    "    mx1 = dt * vx\n",
    "    kx2 = dt * fx(vx + .5*kx1, t + .5*dt)\n",
    "    mx2 = dt * (vx + kx1/2)\n",
    "    kx3 = dt * fx(vx + .5*kx2, t + .5*dt)\n",
    "    mx3 = dt * (vx + kx2/2)\n",
    "    kx4 = dt * fx(vx + kx3, t + dt)\n",
    "    mx4 = dt * (vx + kx3)\n",
    "    \n",
    "    return (kx1 + 2*kx2 + 2*kx3 + kx4)/6\n",
    "    return (mx1 + 2*mx2 + 2*mx3 + mx4)/6\n",
    "\n",
    "def rky(vy,t,dt):\n",
    "    \n",
    "    ky1 = dt * fy(vy,t)\n",
    "    my1 = dt * vy\n",
    "    ky2 = dt * fy(vy + .5*ky1, t + .5*dt)\n",
    "    my2 = dt * (vy + ky1/2)\n",
    "    ky3 = dt * fy(vy + .5*ky2, t + .5*dt)\n",
    "    my3 = dt * (vy + ky2/2)\n",
    "    ky4 = dt * fy(vy + ky3, t + dt)\n",
    "    my4 = dt * (vy + ky3)\n",
    "    \n",
    "    return (ky1 + 2*ky2 + 2*ky3 + ky4)/6\n",
    "    return (my1 + 2*my2 + 2*my3 + my4)/6\n",
    "\n",
    "for n in range(1,len(t)):\n",
    "    vx[n] = vx[n-1] + rkx(vx[n-1],t[n-1],dt)\n",
    "    vy[n] = vy[n-1] + rky(vy[n-1],t[n-1],dt)\n",
    "    rx[n] = rx[n-1] + vx[n-1]*dt\n",
    "    ry[n] = ry[n-1] + vy[n-1]*dt\n",
    "        \n",
    "        \n",
    "plt.plot(rx, ry, 'b')\n",
    "plt.xlabel('x distance (m)')\n",
    "plt.ylabel('y distance (m)')\n",
    "plt.title('projectile motion - RK4')\n",
    "plt.xlim(-5,50)\n",
    "plt.ylim(0,10)\n",
    "plt.show()\n",
    "        "
   ]
  },
  {
   "cell_type": "code",
   "execution_count": null,
   "metadata": {
    "collapsed": false,
    "deletable": true,
    "editable": true
   },
   "outputs": [],
   "source": [
    "print(rx[24])\n",
    "print(ry[24])"
   ]
  },
  {
   "cell_type": "code",
   "execution_count": null,
   "metadata": {
    "collapsed": false,
    "deletable": true,
    "editable": true
   },
   "outputs": [],
   "source": [
    "#modified projectile function - RK\n",
    "\n",
    "def fx(rx,t): # dvx/dt\n",
    "         return -b* rx/m \n",
    "\n",
    "def fy(ry,t): # dvy/dt\n",
    "         return (-b * ry - m*g)/m \n",
    "\n",
    "    \n",
    "def rkx(x,t,dt):\n",
    "    \n",
    "    kx1 = dt * fx(rx,t)\n",
    "    mx1 = dt * vx\n",
    "    kx2 = dt * fx(rx + .5*kx1, t + .5*dt)\n",
    "    mx2 = dt * (vx + kx1/2)\n",
    "    kx3 = dt * fx(rx + .5*kx2, t + .5*dt)\n",
    "    mx3 = dt * (vx + kx2/2)\n",
    "    kx4 = dt * fx(rx + kx3, t + dt)\n",
    "    mx4 = dt * (vx + kx3)\n",
    "    \n",
    "    return (kx1 + 2*kx2 + 2*kx3 + kx4)/6\n",
    "    return (mx1 + 2*mx2 + 2*mx3 + mx4)/6\n",
    "\n",
    "def rky(y,t,dt):\n",
    "    \n",
    "    ky1 = dt * fy(ry,t)\n",
    "    my1 = dt * vy\n",
    "    ky2 = dt * fy(ry + .5*ky1, t + .5*dt)\n",
    "    my2 = dt * (vy + ky1/2)\n",
    "    ky3 = dt * fy(ry + .5*ky2, t + .5*dt)\n",
    "    my3 = dt * (vy + ky2/2)\n",
    "    ky4 = dt * fy(ry + ky3, t + dt)\n",
    "    my4 = dt * (vy + ky3)\n",
    "    \n",
    "    return (ky1 + 2*ky2 + 2*ky3 + ky4)/6\n",
    "    return (my1 + 2*my2 + 2*my3 + my4)/6\n",
    "\n",
    "for n in range(1,len(t)): \n",
    "    #vx[n] = vx[n-1] + fx(vx[n-1], t[n-1])*dt\n",
    "    vx[n] = vx[n-1] + fx(rx[n-1], t[n-1])*dt\n",
    "    #vy[n] = vy[n-1] + fy(vy[n-1], t[n-1])*dt\n",
    "    vy[n] = vy[n-1] + fy(ry[n-1], t[n-1])*dt\n",
    "    rx[n] = rx[n-1] + vx[n-1]*dt\n",
    "    ry[n] = ry[n-1] + vy[n-1]*dt\n",
    "        \n",
    "plt.plot(rx, ry, 'b')\n",
    "plt.xlabel('x distance (m)')\n",
    "plt.ylabel('y distance (m)')\n",
    "plt.title('projectile motion - RK4')\n",
    "plt.xlim(-5,50)\n",
    "plt.ylim(0,10)\n",
    "plt.show()\n",
    "        "
   ]
  },
  {
   "cell_type": "code",
   "execution_count": null,
   "metadata": {
    "collapsed": false,
    "deletable": true,
    "editable": true
   },
   "outputs": [],
   "source": [
    "print(rx[22])\n",
    "print(ry[22])"
   ]
  },
  {
   "cell_type": "code",
   "execution_count": null,
   "metadata": {
    "collapsed": false,
    "deletable": true,
    "editable": true
   },
   "outputs": [],
   "source": [
    "from scipy.constants import gravitational_constant as grav"
   ]
  },
  {
   "cell_type": "markdown",
   "metadata": {
    "deletable": true,
    "editable": true
   },
   "source": [
    "### Polar"
   ]
  },
  {
   "cell_type": "code",
   "execution_count": null,
   "metadata": {
    "collapsed": true,
    "deletable": true,
    "editable": true
   },
   "outputs": [],
   "source": [
    "m1 = m_sun = 3*10**30 #kg\n",
    "m2 = m_earth = 6*10**24 #kg\n",
    "mu = m1*m2/(m1+m2)\n",
    "a = 1.49598*10**8 #km\n",
    "b = 1.49577*10**8 #kn\n",
    "L = 2.7*10**40\n",
    "E = 2.7*10**33\n",
    "#L = np.sqrt(grav*m1/a) \n",
    "#E = -grav*m1*m2/(2*a)"
   ]
  },
  {
   "cell_type": "code",
   "execution_count": null,
   "metadata": {
    "collapsed": false,
    "deletable": true,
    "editable": true
   },
   "outputs": [],
   "source": [
    "#for orbit centered at origin\n",
    "\n",
    "dr = .1\n",
    "\n",
    "r = np.arange(10,20,dr)\n",
    "#r = np.arange(1,21000,100)\n",
    "\n",
    "theta = np.zeros(len(r))\n",
    "theta[0] = 204\n",
    "\n",
    "def f(theta, r):\n",
    "    return (L/np.sqrt(2*mu))*1/(r**2*np.sqrt(E-L**2/(2*mu*r**2)+grav*m1*m2/r))\n",
    "\n",
    "def rk(theta, r, dr):\n",
    "    k1 = dr * f(theta,r)\n",
    "    k2 = dr * f(theta + .5*k1, r + .5*dr)\n",
    "    k3 = dr * f(theta + .5*k2, r + .5*dr)\n",
    "    k4 = dr * f(theta + k3, r + dr)\n",
    "    return (k1 + 2*k2 + 2*k3 + k4)/6\n",
    "\n",
    "for n in range(1,len(r)):\n",
    "        theta[n] = theta[n-1] + rk(theta[n-1], r[n-1], dr)\n",
    "        \n",
    "#x = a*np.cos(theta)\n",
    "#y = b*np.sin(theta)\n",
    "\n",
    "#plt.plot(r,theta)\n",
    "#plt.plot(x, y)\n",
    "#plt.xlabel('position')\n",
    "#plt.ylabel('angular position')\n",
    "#plt.show()\n",
    "\n",
    "plt.polar(r)\n",
    "#plt.polar(x, y)\n",
    "plt.show()"
   ]
  },
  {
   "cell_type": "markdown",
   "metadata": {
    "deletable": true,
    "editable": true
   },
   "source": [
    "### Cartesian "
   ]
  },
  {
   "cell_type": "code",
   "execution_count": 2,
   "metadata": {
    "collapsed": false,
    "deletable": true,
    "editable": true
   },
   "outputs": [],
   "source": [
    "#inputs and functions\n",
    "\n",
    "dt = .0001\n",
    "t = np.arange(0,4.5,dt)\n",
    "#t = np.arange(0,3.15*10**7,dt)\n",
    "\n",
    "vx = np.zeros([len(t)])\n",
    "vy = np.zeros([len(t)])\n",
    "x = np.zeros([len(t)])\n",
    "y = np.zeros([len(t)])\n",
    "\n",
    "\n",
    "vx[0] = 10 #30*10**3\n",
    "vy[0] = 10 #30*10**3\n",
    "x[0] = 10 #150*10**6\n",
    "y[0] = 0\n",
    "\n",
    "M = 20 #6*10**24\n",
    "G = 100 #6.67*10**-11\n",
    "\n",
    "def fx(x,y,t):\n",
    "    #for n in range(1,len(t)):\n",
    "        return -G*M*x/np.power(x**2+y**2,3/2)\n",
    "\n",
    "def fy(x,y,t):\n",
    "    #for n in range(1,len(t)):\n",
    "        return -G*M*y/np.power(x**2+y**2,3/2)\n",
    "\n",
    "\n",
    "for n in range(1,len(t)):\n",
    "    vx[n] = vx[n-1] + fx(x[n-1],y[n-1],t[n-1])*dt\n",
    "    vy[n] = vy[n-1] + fy(x[n-1],y[n-1],t[n-1])*dt\n",
    "    x[n] = x[n-1] + vx[n-1]*dt\n",
    "    y[n] = y[n-1] + vy[n-1]*dt"
   ]
  },
  {
   "cell_type": "code",
   "execution_count": null,
   "metadata": {
    "collapsed": true,
    "deletable": true,
    "editable": true
   },
   "outputs": [],
   "source": [
    "#Euler\n",
    "for n in range(1,len(t)):\n",
    "vx[n] = vx[n-1] + fx(x[n-1],y[n-1],t[n-1])*dt\n",
    "vy[n] = vy[n-1] + fy(x[n-1],y[n-1],t[n-1])*dt\n",
    "x[n] = x[n-1] + vx[n-1]*dt\n",
    "y[n] = y[n-1] + vy[n-1]*dt"
   ]
  },
  {
   "cell_type": "code",
   "execution_count": null,
   "metadata": {
    "collapsed": true,
    "deletable": true,
    "editable": true
   },
   "outputs": [],
   "source": [
    "for n in range(1,len(t)):\n",
    "    vx[n] = vx[n-1] + fx(x[n-1],y[n-1],t[n-1])*dt\n",
    "    vy[n] = vy[n-1] + fy(x[n-1],y[n-1],t[n-1])*dt\n",
    "    x[n] = x[n-1] + vx[n-1]*dt\n",
    "    y[n] = y[n-1] + vy[n-1]*dt\n",
    "\n",
    "plt.plot(x,y,'b')\n",
    "plt.xlabel('x position (m)')\n",
    "plt.ylabel('y position (m)')\n",
    "plt.title('Unrealistic orbit - Euler; M = 20, G = 100, r0 = (10,0), v0 = (10,10), dt = .0001, t = [0,4.5]')\n",
    "plt.show()"
   ]
  },
  {
   "cell_type": "code",
   "execution_count": 4,
   "metadata": {
    "collapsed": false,
    "deletable": true,
    "editable": true
   },
   "outputs": [
    {
     "data": {
      "image/png": "[encoded data removed]",
      "text/plain": [
       "<matplotlib.figure.Figure at 0x118b0cda0>"
      ]
     },
     "metadata": {},
     "output_type": "display_data"
    }
   ],
   "source": [
    "# Runge-Kutta \n",
    "def rkx(x,y,t,dt):\n",
    "    kx1 = dt * fx(x,y,t)\n",
    "    mx1 = dt * vx\n",
    "    kx2 = dt * fx(x + .5*kx1, y + .5*kx1, t + .5*dt)\n",
    "    mx2 = dt * (vx + kx1/2)\n",
    "    kx3 = dt * fx(x + .5*kx2, y + .5*kx2, t + .5*dt)\n",
    "    mx3 = dt * (vx + kx2/2)\n",
    "    kx4 = dt * fx(x + kx3, y + kx3, t + dt)\n",
    "    mx4 = dt * (vx + kx3)\n",
    "    \n",
    "    return (kx1 + 2*kx2 + 2*kx3 + kx4)/6\n",
    "    return (mx1 + 2*mx2 + 2*mx3 + mx4)/6\n",
    "\n",
    "def rky(x,y,t,dt):\n",
    "    ky1 = dt * fy(x,y,t)\n",
    "    my1 = dt * vy\n",
    "    ky2 = dt * fy(x + .5*ky1, y + .5*ky1, t + .5*dt)\n",
    "    my2 = dt * (vy + ky1/2)\n",
    "    ky3 = dt * fy(x + .5*ky2, y + .5*ky2, t + .5*dt)\n",
    "    my3 = dt * (vy + ky2/2)\n",
    "    ky4 = dt * fy(x + ky3, y + ky3, t + dt)\n",
    "    my4 = dt * (vy + ky3)\n",
    "    \n",
    "    return (ky1 + 2*ky2 + 2*ky3 + ky4)/6\n",
    "    return (my1 + 2*my2 + 2*my3 + my4)/6\n",
    "\n",
    "for n in range(1,len(t)):\n",
    "    vx[n] = vx[n-1] + rkx(x[n-1],y[n-1],t[n-1],dt)\n",
    "    vy[n] = vy[n-1] + rky(x[n-1],y[n-1],t[n-1],dt)\n",
    "    x[n] = x[n-1] + vx[n-1]*dt\n",
    "    y[n] = y[n-1] + vy[n-1]*dt\n",
    "    \n",
    "plt.plot(x,y,'b')\n",
    "plt.xlabel('x position (m)')\n",
    "plt.ylabel('y position (m)')\n",
    "plt.title('Unrealistic orbit - RK4; M = 20, G = 100, r0 = (10,0), v0 = (10,10), dt = .0001, t = [0,4.5]')\n",
    "plt.show()"
   ]
  },
  {
   "cell_type": "markdown",
   "metadata": {},
   "source": [
    "### Scale"
   ]
  },
  {
   "cell_type": "code",
   "execution_count": 7,
   "metadata": {
    "collapsed": false
   },
   "outputs": [
    {
     "data": {
      "image/png": "[encoded data removed]",
      "text/plain": [
       "<matplotlib.figure.Figure at 0x11c6fab00>"
      ]
     },
     "metadata": {},
     "output_type": "display_data"
    }
   ],
   "source": [
    "x = x/1000\n",
    "y = y/1000\n",
    "plt.plot(x,y,'b')\n",
    "plt.show()"
   ]
  },
  {
   "cell_type": "code",
   "execution_count": null,
   "metadata": {
    "collapsed": true
   },
   "outputs": [],
   "source": []
  },
  {
   "cell_type": "code",
   "execution_count": null,
   "metadata": {
    "collapsed": true
   },
   "outputs": [],
   "source": []
  },
  {
   "cell_type": "code",
   "execution_count": null,
   "metadata": {
    "collapsed": true
   },
   "outputs": [],
   "source": []
  },
  {
   "cell_type": "markdown",
   "metadata": {
    "deletable": true,
    "editable": true
   },
   "source": [
    "### variations with euler"
   ]
  },
  {
   "cell_type": "code",
   "execution_count": null,
   "metadata": {
    "collapsed": false,
    "deletable": true,
    "editable": true
   },
   "outputs": [],
   "source": [
    "M = 2*10**14\n",
    "G = 3*10**-11\n",
    "\n",
    "def fx(x,y,t):\n",
    "    #for n in range(1,len(t)):\n",
    "        return -G*M*x/np.power(x**2+y**2,3/2)\n",
    "\n",
    "def fy(x,y,t):\n",
    "    #for n in range(1,len(t)):\n",
    "        return -G*M*y/np.power(x**2+y**2,3/2)\n",
    "\n",
    "for n in range(1,len(t)):\n",
    "    vx[n] = vx[n-1] + fx(x[n-1],y[n-1],t[n-1])*dt\n",
    "    vy[n] = vy[n-1] + fy(x[n-1],y[n-1],t[n-1])*dt\n",
    "    x[n] = x[n-1] + vx[n-1]*dt\n",
    "    y[n] = y[n-1] + vy[n-1]*dt\n",
    "    \n",
    "plt.plot(x,y, 'b')\n",
    "plt.xlabel('x position (m)')\n",
    "plt.ylabel('y position (m)')\n",
    "plt.title('mass = 2x10^14, G = 3x10^-11, r0 = (0,10), v0 = (10,10), time step = .0001, time interval = [0,4.5]')\n",
    "plt.show()"
   ]
  },
  {
   "cell_type": "code",
   "execution_count": 9,
   "metadata": {
    "collapsed": false
   },
   "outputs": [
    {
     "data": {
      "image/png": "[encoded data removed]",
      "text/plain": [
       "<matplotlib.figure.Figure at 0x11c6fa0f0>"
      ]
     },
     "metadata": {},
     "output_type": "display_data"
    }
   ],
   "source": [
    "x = x/10000\n",
    "y = y/10000\n",
    "plt.plot(x,y, 'b')\n",
    "plt.show()"
   ]
  },
  {
   "cell_type": "code",
   "execution_count": null,
   "metadata": {
    "collapsed": false,
    "deletable": true,
    "editable": true
   },
   "outputs": [],
   "source": [
    "dt = .0001\n",
    "t = np.arange(0,4.5,dt)\n",
    "#t = np.arange(0,3.15*10**7,dt)\n",
    "\n",
    "vx = np.zeros([len(t)])\n",
    "vy = np.zeros([len(t)])\n",
    "x = np.zeros([len(t)])\n",
    "y = np.zeros([len(t)])\n",
    "\n",
    "\n",
    "vx[0] = 10 #30*10**3\n",
    "vy[0] = 10 #30*10**3\n",
    "x[0] = 10 #150*10**6\n",
    "y[0] = 0\n",
    "\n",
    "M = 4*10**14\n",
    "G = 6.67*10**-11\n",
    "\n",
    "def fx(x,y,t):\n",
    "    #for n in range(1,len(t)):\n",
    "        return -G*M*x/np.power(x**2+y**2,3/2)\n",
    "\n",
    "def fy(x,y,t):\n",
    "    #for n in range(1,len(t)):\n",
    "        return -G*M*y/np.power(x**2+y**2,3/2)\n",
    "\n",
    "for n in range(1,len(t)):\n",
    "    vx[n] = vx[n-1] + fx(x[n-1],y[n-1],t[n-1])*dt\n",
    "    vy[n] = vy[n-1] + fy(x[n-1],y[n-1],t[n-1])*dt\n",
    "    x[n] = x[n-1] + vx[n-1]*dt\n",
    "    y[n] = y[n-1] + vy[n-1]*dt\n",
    "    \n",
    "plt.plot(x,y, 'b')\n",
    "plt.xlabel('x position (m)')\n",
    "plt.ylabel('y position (m)')\n",
    "plt.title('mass = 4x10^14, G = 6.67x10^-11, r0 = (0,10), v0 = (10,10), time step = .0001, time interval = [0,4.5]')\n",
    "plt.show()"
   ]
  },
  {
   "cell_type": "code",
   "execution_count": null,
   "metadata": {
    "collapsed": false,
    "deletable": true,
    "editable": true
   },
   "outputs": [],
   "source": [
    "dt = .0001\n",
    "t = np.arange(0,20,dt)\n",
    "#t = np.arange(0,3.15*10**7,dt)\n",
    "\n",
    "vx = np.zeros([len(t)])\n",
    "vy = np.zeros([len(t)])\n",
    "x = np.zeros([len(t)])\n",
    "y = np.zeros([len(t)])\n",
    "\n",
    "\n",
    "vx[0] = 10 #30*10**3\n",
    "vy[0] = 10 #30*10**3\n",
    "x[0] = 10 #150*10**6\n",
    "y[0] = 0\n",
    "\n",
    "M = 1*10**14\n",
    "G = 6.67*10**-11\n",
    "\n",
    "\n",
    "def fx(x,y,t):\n",
    "    #for n in range(1,len(t)):\n",
    "        return -G*M*x/np.power(x**2+y**2,3/2)\n",
    "\n",
    "def fy(x,y,t):\n",
    "    #for n in range(1,len(t)):\n",
    "        return -G*M*y/np.power(x**2+y**2,3/2)\n",
    "\n",
    "for n in range(1,len(t)):\n",
    "    vx[n] = vx[n-1] + fx(x[n-1],y[n-1],t[n-1])*dt\n",
    "    vy[n] = vy[n-1] + fy(x[n-1],y[n-1],t[n-1])*dt\n",
    "    x[n] = x[n-1] + vx[n-1]*dt\n",
    "    y[n] = y[n-1] + vy[n-1]*dt\n",
    "\n",
    "plt.plot(x,y, 'b')\n",
    "plt.xlabel('x position (m)')\n",
    "plt.ylabel('y position (m)')\n",
    "plt.title('mass = 1x10^14, G = 6.67x10^-11, r0 = (0,10), v0 = (10,10), time step = .0001, time interval = [0,20]')\n",
    "plt.show()"
   ]
  },
  {
   "cell_type": "markdown",
   "metadata": {
    "deletable": true,
    "editable": true
   },
   "source": [
    "#### Why would 10^14 be special??"
   ]
  },
  {
   "cell_type": "markdown",
   "metadata": {
    "deletable": true,
    "editable": true
   },
   "source": [
    "###### decreasing the time step:"
   ]
  },
  {
   "cell_type": "code",
   "execution_count": null,
   "metadata": {
    "collapsed": false,
    "deletable": true,
    "editable": true
   },
   "outputs": [],
   "source": [
    "dt = .00001\n",
    "t = np.arange(0,20,dt)\n",
    "#t = np.arange(0,3.15*10**7,dt)\n",
    "\n",
    "vx = np.zeros([len(t)])\n",
    "vy = np.zeros([len(t)])\n",
    "x = np.zeros([len(t)])\n",
    "y = np.zeros([len(t)])\n",
    "\n",
    "\n",
    "vx[0] = 10 #30*10**3\n",
    "vy[0] = 10 #30*10**3\n",
    "x[0] = 10 #150*10**6\n",
    "y[0] = 0\n",
    "\n",
    "M = 1*10**14\n",
    "G = 6.67*10**-11\n",
    "\n",
    "\n",
    "def fx(x,y,t):\n",
    "    #for n in range(1,len(t)):\n",
    "        return -G*M*x/np.power(x**2+y**2,3/2)\n",
    "\n",
    "def fy(x,y,t):\n",
    "    #for n in range(1,len(t)):\n",
    "        return -G*M*y/np.power(x**2+y**2,3/2)\n",
    "\n",
    "for n in range(1,len(t)):\n",
    "    vx[n] = vx[n-1] + fx(x[n-1],y[n-1],t[n-1])*dt\n",
    "    vy[n] = vy[n-1] + fy(x[n-1],y[n-1],t[n-1])*dt\n",
    "    x[n] = x[n-1] + vx[n-1]*dt\n",
    "    y[n] = y[n-1] + vy[n-1]*dt\n",
    "\n",
    "plt.plot(x,y, 'b')\n",
    "plt.xlabel('x position (m)')\n",
    "plt.ylabel('y position (m)')\n",
    "plt.title('mass = 1x10^14, G = 6.67x10^-11, r0 = (0,10), v0 = (10,10), time step = .00001, time interval = [0,20]')\n",
    "plt.show()"
   ]
  },
  {
   "cell_type": "markdown",
   "metadata": {
    "deletable": true,
    "editable": true
   },
   "source": [
    "###### What does such a different result mean?!"
   ]
  },
  {
   "cell_type": "markdown",
   "metadata": {
    "deletable": true,
    "editable": true
   },
   "source": [
    "###### increasing initial velocity and x position:"
   ]
  },
  {
   "cell_type": "code",
   "execution_count": null,
   "metadata": {
    "collapsed": false,
    "deletable": true,
    "editable": true
   },
   "outputs": [],
   "source": [
    "dt = .00001\n",
    "t = np.arange(0,20,dt)\n",
    "#t = np.arange(0,3.15*10**7,dt)\n",
    "\n",
    "vx = np.zeros([len(t)])\n",
    "vy = np.zeros([len(t)])\n",
    "x = np.zeros([len(t)])\n",
    "y = np.zeros([len(t)])\n",
    "\n",
    "\n",
    "vx[0] = 20 #30*10**3\n",
    "vy[0] = 20 #30*10**3\n",
    "x[0] = 10 #150*10**6\n",
    "y[0] = 0\n",
    "\n",
    "M = 1*10**14\n",
    "G = 6.67*10**-11\n",
    "\n",
    "\n",
    "def fx(x,y,t):\n",
    "    #for n in range(1,len(t)):\n",
    "        return -G*M*x/np.power(x**2+y**2,3/2)\n",
    "\n",
    "def fy(x,y,t):\n",
    "    #for n in range(1,len(t)):\n",
    "        return -G*M*y/np.power(x**2+y**2,3/2)\n",
    "\n",
    "for n in range(1,len(t)):\n",
    "    vx[n] = vx[n-1] + fx(x[n-1],y[n-1],t[n-1])*dt\n",
    "    vy[n] = vy[n-1] + fy(x[n-1],y[n-1],t[n-1])*dt\n",
    "    x[n] = x[n-1] + vx[n-1]*dt\n",
    "    y[n] = y[n-1] + vy[n-1]*dt\n",
    "\n",
    "plt.plot(x,y, 'b')\n",
    "plt.xlabel('x position (m)')\n",
    "plt.ylabel('y position (m)')\n",
    "plt.title('mass = 1x10^14, G = 6.67x10^-11, r0 = (0,10), v0 = (20,20), time step = .00001, time interval = [0,20]')\n",
    "plt.show()"
   ]
  },
  {
   "cell_type": "markdown",
   "metadata": {
    "deletable": true,
    "editable": true
   },
   "source": [
    "###### why does doubling the initial velocities make the orbit so much more accurate? And why does anything besides 20 behave terribly?"
   ]
  },
  {
   "cell_type": "code",
   "execution_count": null,
   "metadata": {
    "collapsed": false,
    "deletable": true,
    "editable": true
   },
   "outputs": [],
   "source": [
    "dt = .00001\n",
    "t = np.arange(0,20,dt)\n",
    "#t = np.arange(0,3.15*10**7,dt)\n",
    "\n",
    "vx = np.zeros([len(t)])\n",
    "vy = np.zeros([len(t)])\n",
    "x = np.zeros([len(t)])\n",
    "y = np.zeros([len(t)])\n",
    "\n",
    "\n",
    "vx[0] = 25 #30*10**3\n",
    "vy[0] = 25 #30*10**3\n",
    "x[0] = 10 #150*10**6\n",
    "y[0] = 0\n",
    "\n",
    "M = 1*10**14\n",
    "G = 6.67*10**-11\n",
    "\n",
    "\n",
    "def fx(x,y,t):\n",
    "    #for n in range(1,len(t)):\n",
    "        return -G*M*x/np.power(x**2+y**2,3/2)\n",
    "\n",
    "def fy(x,y,t):\n",
    "    #for n in range(1,len(t)):\n",
    "        return -G*M*y/np.power(x**2+y**2,3/2)\n",
    "\n",
    "for n in range(1,len(t)):\n",
    "    vx[n] = vx[n-1] + fx(x[n-1],y[n-1],t[n-1])*dt\n",
    "    vy[n] = vy[n-1] + fy(x[n-1],y[n-1],t[n-1])*dt\n",
    "    x[n] = x[n-1] + vx[n-1]*dt\n",
    "    y[n] = y[n-1] + vy[n-1]*dt\n",
    "\n",
    "plt.plot(x,y, 'b')\n",
    "plt.xlabel('x position (m)')\n",
    "plt.ylabel('y position (m)')\n",
    "plt.title('mass = 1x10^14, G = 6.67x10^-11, r0 = (0,10), v0 = (25,25), time step = .00001, time interval = [0,20]')\n",
    "plt.show()"
   ]
  },
  {
   "cell_type": "markdown",
   "metadata": {
    "deletable": true,
    "editable": true
   },
   "source": [
    "###### how could adding 5 m/s to the initial velocities produce such a different result?"
   ]
  },
  {
   "cell_type": "markdown",
   "metadata": {
    "deletable": true,
    "editable": true
   },
   "source": [
    "##### adding some more time:"
   ]
  },
  {
   "cell_type": "code",
   "execution_count": null,
   "metadata": {
    "collapsed": false,
    "deletable": true,
    "editable": true
   },
   "outputs": [],
   "source": [
    "dt = .00001\n",
    "t = np.arange(0,70,dt)\n",
    "#t = np.arange(0,3.15*10**7,dt)\n",
    "\n",
    "vx = np.zeros([len(t)])\n",
    "vy = np.zeros([len(t)])\n",
    "x = np.zeros([len(t)])\n",
    "y = np.zeros([len(t)])\n",
    "\n",
    "\n",
    "vx[0] = 25 #30*10**3\n",
    "vy[0] = 25 #30*10**3\n",
    "x[0] = 10 #150*10**6\n",
    "y[0] = 0\n",
    "\n",
    "M = 1*10**14\n",
    "G = 6.67*10**-11\n",
    "\n",
    "\n",
    "def fx(x,y,t):\n",
    "    #for n in range(1,len(t)):\n",
    "        return -G*M*x/np.power(x**2+y**2,3/2)\n",
    "\n",
    "def fy(x,y,t):\n",
    "    #for n in range(1,len(t)):\n",
    "        return -G*M*y/np.power(x**2+y**2,3/2)\n",
    "\n",
    "for n in range(1,len(t)):\n",
    "    vx[n] = vx[n-1] + fx(x[n-1],y[n-1],t[n-1])*dt\n",
    "    vy[n] = vy[n-1] + fy(x[n-1],y[n-1],t[n-1])*dt\n",
    "    x[n] = x[n-1] + vx[n-1]*dt\n",
    "    y[n] = y[n-1] + vy[n-1]*dt\n",
    "\n",
    "plt.plot(x,y, 'b')\n",
    "plt.xlabel('x position (m)')\n",
    "plt.ylabel('y position (m)')\n",
    "plt.title('mass = 1x10^14, G = 6.67x10^-11, r0 = (0,10), v0 = (20,20), time step = .00001, time interval = [0,70]')\n",
    "plt.show()"
   ]
  },
  {
   "cell_type": "code",
   "execution_count": null,
   "metadata": {
    "collapsed": false,
    "deletable": true,
    "editable": true
   },
   "outputs": [],
   "source": [
    "dt = .00001\n",
    "t = np.arange(0,90,dt)\n",
    "#t = np.arange(0,3.15*10**7,dt)\n",
    "\n",
    "vx = np.zeros([len(t)])\n",
    "vy = np.zeros([len(t)])\n",
    "x = np.zeros([len(t)])\n",
    "y = np.zeros([len(t)])\n",
    "\n",
    "\n",
    "vx[0] = 30 #30*10**3\n",
    "vy[0] = 30 #30*10**3\n",
    "x[0] = 10 #150*10**6\n",
    "y[0] = 0\n",
    "\n",
    "M = 2*10**14\n",
    "G = 6.67*10**-11\n",
    "\n",
    "\n",
    "def fx(x,y,t):\n",
    "    #for n in range(1,len(t)):\n",
    "        return -G*M*x/np.power(x**2+y**2,3/2)\n",
    "\n",
    "def fy(x,y,t):\n",
    "    #for n in range(1,len(t)):\n",
    "        return -G*M*y/np.power(x**2+y**2,3/2)\n",
    "\n",
    "for n in range(1,len(t)):\n",
    "    vx[n] = vx[n-1] + fx(x[n-1],y[n-1],t[n-1])*dt\n",
    "    vy[n] = vy[n-1] + fy(x[n-1],y[n-1],t[n-1])*dt\n",
    "    x[n] = x[n-1] + vx[n-1]*dt\n",
    "    y[n] = y[n-1] + vy[n-1]*dt\n",
    "\n",
    "plt.plot(x,y, 'b')\n",
    "plt.xlabel('x position (m)')\n",
    "plt.ylabel('y position (m)')\n",
    "plt.title('mass = 2x10^14, G = 6.67x10^-11, r0 = (0,10), v0 = (30,30), time step = .00001, time interval = [0,90]')\n",
    "plt.show()"
   ]
  },
  {
   "cell_type": "markdown",
   "metadata": {
    "deletable": true,
    "editable": true
   },
   "source": [
    "###### but that thick part means it's going around a bunch of times, which shouldn't be happening, I don't think."
   ]
  },
  {
   "cell_type": "code",
   "execution_count": null,
   "metadata": {
    "collapsed": false,
    "deletable": true,
    "editable": true
   },
   "outputs": [],
   "source": [
    "dt = .00001\n",
    "t = np.arange(0,90,dt)\n",
    "#t = np.arange(0,3.15*10**7,dt)\n",
    "\n",
    "vx = np.zeros([len(t)])\n",
    "vy = np.zeros([len(t)])\n",
    "x = np.zeros([len(t)])\n",
    "y = np.zeros([len(t)])\n",
    "\n",
    "\n",
    "vx[0] = 35 #30*10**3\n",
    "vy[0] = 35 #30*10**3\n",
    "x[0] = 10 #150*10**6\n",
    "y[0] = 0\n",
    "\n",
    "M = 2*10**14\n",
    "G = 6.67*10**-11\n",
    "\n",
    "\n",
    "def fx(x,y,t):\n",
    "    #for n in range(1,len(t)):\n",
    "        return -G*M*x/np.power(x**2+y**2,3/2)\n",
    "\n",
    "def fy(x,y,t):\n",
    "    #for n in range(1,len(t)):\n",
    "        return -G*M*y/np.power(x**2+y**2,3/2)\n",
    "\n",
    "for n in range(1,len(t)):\n",
    "    vx[n] = vx[n-1] + fx(x[n-1],y[n-1],t[n-1])*dt\n",
    "    vy[n] = vy[n-1] + fy(x[n-1],y[n-1],t[n-1])*dt\n",
    "    x[n] = x[n-1] + vx[n-1]*dt\n",
    "    y[n] = y[n-1] + vy[n-1]*dt\n",
    "\n",
    "plt.plot(x,y, 'b')\n",
    "plt.xlabel('x position (m)')\n",
    "plt.ylabel('y position (m)')\n",
    "plt.title('mass = 2x10^14, G = 6.67x10^-11, r0 = (0,10), v0 = (35,35), time step = .00001, time interval = [0,90]')\n",
    "plt.show()"
   ]
  },
  {
   "cell_type": "code",
   "execution_count": 10,
   "metadata": {
    "collapsed": false,
    "deletable": true,
    "editable": true
   },
   "outputs": [
    {
     "data": {
      "image/png": "[encoded data removed]",
      "text/plain": [
       "<matplotlib.figure.Figure at 0x118e240f0>"
      ]
     },
     "metadata": {},
     "output_type": "display_data"
    }
   ],
   "source": [
    "dt = .00001\n",
    "t = np.arange(0,90,dt)\n",
    "#t = np.arange(0,3.15*10**7,dt)\n",
    "\n",
    "vx = np.zeros([len(t)])\n",
    "vy = np.zeros([len(t)])\n",
    "x = np.zeros([len(t)])\n",
    "y = np.zeros([len(t)])\n",
    "\n",
    "\n",
    "vx[0] = 35 #30*10**3\n",
    "vy[0] = 35 #30*10**3\n",
    "x[0] = 5 #150*10**6\n",
    "y[0] = 0\n",
    "\n",
    "M = 2*10**14\n",
    "G = 6.67*10**-11\n",
    "\n",
    "\n",
    "def fx(x,y,t):\n",
    "    #for n in range(1,len(t)):\n",
    "        return -G*M*x/np.power(x**2+y**2,3/2)\n",
    "\n",
    "def fy(x,y,t):\n",
    "    #for n in range(1,len(t)):\n",
    "        return -G*M*y/np.power(x**2+y**2,3/2)\n",
    "\n",
    "for n in range(1,len(t)):\n",
    "    vx[n] = vx[n-1] + fx(x[n-1],y[n-1],t[n-1])*dt\n",
    "    vy[n] = vy[n-1] + fy(x[n-1],y[n-1],t[n-1])*dt\n",
    "    x[n] = x[n-1] + vx[n-1]*dt\n",
    "    y[n] = y[n-1] + vy[n-1]*dt\n",
    "\n",
    "plt.plot(x,y, 'b')\n",
    "plt.xlabel('x position (m)')\n",
    "plt.ylabel('y position (m)')\n",
    "plt.title('mass = 2x10^14, G = 6.67x10^-11, r0 = (0,10), v0 = (40,40), time step = .00001, time interval = [0,90]')\n",
    "plt.show()"
   ]
  },
  {
   "cell_type": "code",
   "execution_count": null,
   "metadata": {
    "collapsed": true,
    "deletable": true,
    "editable": true
   },
   "outputs": [],
   "source": []
  },
  {
   "cell_type": "code",
   "execution_count": null,
   "metadata": {
    "collapsed": true,
    "deletable": true,
    "editable": true
   },
   "outputs": [],
   "source": []
  },
  {
   "cell_type": "code",
   "execution_count": null,
   "metadata": {
    "collapsed": true,
    "deletable": true,
    "editable": true
   },
   "outputs": [],
   "source": []
  },
  {
   "cell_type": "code",
   "execution_count": null,
   "metadata": {
    "collapsed": false,
    "deletable": true,
    "editable": true
   },
   "outputs": [],
   "source": [
    "dt = .00001\n",
    "t = np.arange(0,10**6,dt)\n",
    "#t = np.arange(0,3.15*10**7,dt)\n",
    "\n",
    "vx = np.zeros([len(t)])\n",
    "vy = np.zeros([len(t)])\n",
    "x = np.zeros([len(t)])\n",
    "y = np.zeros([len(t)])\n",
    "\n",
    "\n",
    "vx[0] = 10**3 #30*10**3\n",
    "vy[0] = 10**3 #30*10**3\n",
    "x[0] = 10**6 #150*10**6\n",
    "y[0] = 0\n",
    "\n",
    "M = 2*10**20 #2*10**14\n",
    "G = 6.67*10**-11\n",
    "\n",
    "\n",
    "def fx(x,y,t):\n",
    "    #for n in range(1,len(t)):\n",
    "        return -G*M*x/np.power(x**2+y**2,3/2)\n",
    "\n",
    "def fy(x,y,t):\n",
    "    #for n in range(1,len(t)):\n",
    "        return -G*M*y/np.power(x**2+y**2,3/2)\n",
    "\n",
    "for n in range(1,len(t)):\n",
    "    vx[n] = vx[n-1] + fx(x[n-1],y[n-1],t[n-1])*dt\n",
    "    vy[n] = vy[n-1] + fy(x[n-1],y[n-1],t[n-1])*dt\n",
    "    x[n] = x[n-1] + vx[n-1]*dt\n",
    "    y[n] = y[n-1] + vy[n-1]*dt\n",
    "\n",
    "x = x/10000\n",
    "y = y/10000\n",
    "\n",
    "plt.plot(x,y, 'b')\n",
    "plt.show()\n",
    "plt.plot(x,y, 'b')\n",
    "plt.xlabel('x position (m)')\n",
    "plt.ylabel('y position (m)')\n",
    "plt.title('mass: 2*10**14, G: actual, time step: .00001, time interval: [0,70]')\n",
    "plt.show()"
   ]
  },
  {
   "cell_type": "markdown",
   "metadata": {
    "collapsed": true,
    "deletable": true,
    "editable": true
   },
   "source": [
    "### variations with runge-kutta"
   ]
  },
  {
   "cell_type": "code",
   "execution_count": null,
   "metadata": {
    "collapsed": false,
    "deletable": true,
    "editable": true
   },
   "outputs": [],
   "source": [
    "dt = .0001\n",
    "t = np.arange(0,20,dt)\n",
    "#t = np.arange(0,3.15*10**7,dt)\n",
    "\n",
    "vx = np.zeros([len(t)])\n",
    "vy = np.zeros([len(t)])\n",
    "x = np.zeros([len(t)])\n",
    "y = np.zeros([len(t)])\n",
    "\n",
    "\n",
    "vx[0] = 10 #30*10**3\n",
    "vy[0] = 10 #30*10**3\n",
    "x[0] = 10 #150*10**6\n",
    "y[0] = 0\n",
    "\n",
    "M = 2*10**14 #6*10**24\n",
    "G = 3*10**-11 #6.67*10**-11\n",
    "\n",
    "def fx(x,y,t):\n",
    "    #for n in range(1,len(t)):\n",
    "        return -G*M*x/np.power(x**2+y**2,3/2)\n",
    "\n",
    "def fy(x,y,t):\n",
    "    #for n in range(1,len(t)):\n",
    "        return -G*M*y/np.power(x**2+y**2,3/2)\n",
    "def rkx(x,y,t,dt):\n",
    "    \n",
    "    kx1 = dt * fx(x,y,t)\n",
    "    mx1 = dt * vx\n",
    "    kx2 = dt * fx(x + .5*kx1, y + .5*kx1, t + .5*dt)\n",
    "    mx2 = dt * (vx + kx1/2)\n",
    "    kx3 = dt * fx(x + .5*kx2, y + .5*kx2, t + .5*dt)\n",
    "    mx3 = dt * (vx + kx2/2)\n",
    "    kx4 = dt * fx(x + kx3, y + kx3, t + dt)\n",
    "    mx4 = dt * (vx + kx3)\n",
    "    \n",
    "    return (kx1 + 2*kx2 + 2*kx3 + kx4)/6\n",
    "    return (mx1 + 2*mx2 + 2*mx3 + mx4)/6\n",
    "\n",
    "def rky(x,y,t,dt):\n",
    "    \n",
    "    ky1 = dt * fy(x,y,t)\n",
    "    my1 = dt * vy\n",
    "    ky2 = dt * fy(x + .5*ky1, y + .5*ky1, t + .5*dt)\n",
    "    my2 = dt * (vy + ky1/2)\n",
    "    ky3 = dt * fy(x + .5*ky2, y + .5*ky2, t + .5*dt)\n",
    "    my3 = dt * (vy + ky2/2)\n",
    "    ky4 = dt * fy(x + ky3, y + ky3, t + dt)\n",
    "    my4 = dt * (vy + ky3)\n",
    "    \n",
    "    return (ky1 + 2*ky2 + 2*ky3 + ky4)/6\n",
    "    return (my1 + 2*my2 + 2*my3 + my4)/6\n",
    "\n",
    "for n in range(1,len(t)):\n",
    "    vx[n] = vx[n-1] + rkx(x[n-1],y[n-1],t[n-1],dt)\n",
    "    vy[n] = vy[n-1] + rky(x[n-1],y[n-1],t[n-1],dt)\n",
    "    x[n] = x[n-1] + vx[n-1]*dt\n",
    "    y[n] = y[n-1] + vy[n-1]*dt\n",
    "    \n",
    "plt.plot(x,y,'b')\n",
    "plt.xlabel('x position (m)')\n",
    "plt.ylabel('y position (m)')\n",
    "plt.title('mass = 2x10^14, G = 3x10^-11 actual, time step: .0001, time interval: [0,20]')\n",
    "plt.show()"
   ]
  },
  {
   "cell_type": "code",
   "execution_count": null,
   "metadata": {
    "collapsed": false,
    "deletable": true,
    "editable": true
   },
   "outputs": [],
   "source": [
    "dt = .0001\n",
    "t = np.arange(0,4.5,dt)\n",
    "#t = np.arange(0,3.15*10**7,dt)\n",
    "\n",
    "vx = np.zeros([len(t)])\n",
    "vy = np.zeros([len(t)])\n",
    "x = np.zeros([len(t)])\n",
    "y = np.zeros([len(t)])\n",
    "\n",
    "\n",
    "vx[0] = 10 #30*10**3\n",
    "vy[0] = 10 #30*10**3\n",
    "x[0] = 10 #150*10**6\n",
    "y[0] = 0\n",
    "\n",
    "M = 9000 #6*10**24\n",
    "G = 1 #6.67*10**-11\n",
    "\n",
    "def fx(x,y,t):\n",
    "    #for n in range(1,len(t)):\n",
    "        return -G*M*x/np.power(x**2+y**2,3/2)\n",
    "\n",
    "def fy(x,y,t):\n",
    "    #for n in range(1,len(t)):\n",
    "        return -G*M*y/np.power(x**2+y**2,3/2)\n",
    "    \n",
    "def rkx(x,y,t,dt):\n",
    "    \n",
    "    kx1 = dt * fx(x,y,t)\n",
    "    mx1 = dt * vx\n",
    "    kx2 = dt * fx(x + .5*kx1, y + .5*kx1, t + .5*dt)\n",
    "    mx2 = dt * (vx + kx1/2)\n",
    "    kx3 = dt * fx(x + .5*kx2, y + .5*kx2, t + .5*dt)\n",
    "    mx3 = dt * (vx + kx2/2)\n",
    "    kx4 = dt * fx(x + kx3, y + kx3, t + dt)\n",
    "    mx4 = dt * (vx + kx3)\n",
    "    \n",
    "    return (kx1 + 2*kx2 + 2*kx3 + kx4)/6\n",
    "    return (mx1 + 2*mx2 + 2*mx3 + mx4)/6\n",
    "\n",
    "def rky(x,y,t,dt):\n",
    "    \n",
    "    ky1 = dt * fy(x,y,t)\n",
    "    my1 = dt * vy\n",
    "    ky2 = dt * fy(x + .5*ky1, y + .5*ky1, t + .5*dt)\n",
    "    my2 = dt * (vy + ky1/2)\n",
    "    ky3 = dt * fy(x + .5*ky2, y + .5*ky2, t + .5*dt)\n",
    "    my3 = dt * (vy + ky2/2)\n",
    "    ky4 = dt * fy(x + ky3, y + ky3, t + dt)\n",
    "    my4 = dt * (vy + ky3)\n",
    "    \n",
    "    return (ky1 + 2*ky2 + 2*ky3 + ky4)/6\n",
    "    return (my1 + 2*my2 + 2*my3 + my4)/6\n",
    "\n",
    "for n in range(1,len(t)):\n",
    "    vx[n] = vx[n-1] + rkx(x[n-1],y[n-1],t[n-1],dt)\n",
    "    vy[n] = vy[n-1] + rky(x[n-1],y[n-1],t[n-1],dt)\n",
    "    x[n] = x[n-1] + vx[n-1]*dt\n",
    "    y[n] = y[n-1] + vy[n-1]*dt\n",
    "    \n",
    "plt.plot(x,y,'b')\n",
    "plt.xlabel('x position (m)')\n",
    "plt.ylabel('y position (m)')\n",
    "plt.title('mass = 2000, G = 1, r0 = (10,0), v0 = (10,10), dt = .0001, t = [0,4.5]')\n",
    "plt.show()"
   ]
  },
  {
   "cell_type": "code",
   "execution_count": null,
   "metadata": {
    "collapsed": false,
    "deletable": true,
    "editable": true
   },
   "outputs": [],
   "source": [
    "dt = .00001\n",
    "t = np.arange(0,10,dt)\n",
    "#t = np.arange(0,3.15*10**7,dt)\n",
    "\n",
    "vx = np.zeros([len(t)])\n",
    "vy = np.zeros([len(t)])\n",
    "x = np.zeros([len(t)])\n",
    "y = np.zeros([len(t)])\n",
    "\n",
    "\n",
    "vx[0] = 25 #30*10**3\n",
    "vy[0] = 25 #30*10**3\n",
    "x[0] = 10 #150*10**6\n",
    "y[0] = 0\n",
    "\n",
    "M = 2000 #6*10**24\n",
    "G = 1 #6.67*10**-11\n",
    "\n",
    "def fx(x,y,t):\n",
    "    #for n in range(1,len(t)):\n",
    "        return -G*M*x/np.power(x**2+y**2,3/2)\n",
    "\n",
    "def fy(x,y,t):\n",
    "    #for n in range(1,len(t)):\n",
    "        return -G*M*y/np.power(x**2+y**2,3/2)\n",
    "    \n",
    "def rkx(x,y,t,dt):\n",
    "    \n",
    "    kx1 = dt * fx(x,y,t)\n",
    "    mx1 = dt * vx\n",
    "    kx2 = dt * fx(x + .5*kx1, y + .5*kx1, t + .5*dt)\n",
    "    mx2 = dt * (vx + kx1/2)\n",
    "    kx3 = dt * fx(x + .5*kx2, y + .5*kx2, t + .5*dt)\n",
    "    mx3 = dt * (vx + kx2/2)\n",
    "    kx4 = dt * fx(x + kx3, y + kx3, t + dt)\n",
    "    mx4 = dt * (vx + kx3)\n",
    "    \n",
    "    return (kx1 + 2*kx2 + 2*kx3 + kx4)/6\n",
    "    return (mx1 + 2*mx2 + 2*mx3 + mx4)/6\n",
    "\n",
    "def rky(x,y,t,dt):\n",
    "    \n",
    "    ky1 = dt * fy(x,y,t)\n",
    "    my1 = dt * vy\n",
    "    ky2 = dt * fy(x + .5*ky1, y + .5*ky1, t + .5*dt)\n",
    "    my2 = dt * (vy + ky1/2)\n",
    "    ky3 = dt * fy(x + .5*ky2, y + .5*ky2, t + .5*dt)\n",
    "    my3 = dt * (vy + ky2/2)\n",
    "    ky4 = dt * fy(x + ky3, y + ky3, t + dt)\n",
    "    my4 = dt * (vy + ky3)\n",
    "    \n",
    "    return (ky1 + 2*ky2 + 2*ky3 + ky4)/6\n",
    "    return (my1 + 2*my2 + 2*my3 + my4)/6\n",
    "\n",
    "for n in range(1,len(t)):\n",
    "    vx[n] = vx[n-1] + rkx(x[n-1],y[n-1],t[n-1],dt)\n",
    "    vy[n] = vy[n-1] + rky(x[n-1],y[n-1],t[n-1],dt)\n",
    "    x[n] = x[n-1] + vx[n-1]*dt\n",
    "    y[n] = y[n-1] + vy[n-1]*dt\n",
    "    \n",
    "plt.plot(x,y,'b')\n",
    "plt.xlabel('x position (m)')\n",
    "plt.ylabel('y position (m)')\n",
    "plt.title('mass = 20000, G = .1, r0 = (10,0), v0 = (10,10), dt = .0001, t = [0,4.5]')\n",
    "plt.show()"
   ]
  },
  {
   "cell_type": "code",
   "execution_count": null,
   "metadata": {
    "collapsed": true,
    "deletable": true,
    "editable": true
   },
   "outputs": [],
   "source": []
  }
 ],
 "metadata": {
  "kernelspec": {
   "display_name": "Python 3",
   "language": "python",
   "name": "python3"
  },
  "language_info": {
   "codemirror_mode": {
    "name": "ipython",
    "version": 3
   },
   "file_extension": ".py",
   "mimetype": "text/x-python",
   "name": "python",
   "nbconvert_exporter": "python",
   "pygments_lexer": "ipython3",
   "version": "3.5.2"
  }
 },
 "nbformat": 4,
 "nbformat_minor": 2
}
